{
 "cells": [
  {
   "cell_type": "code",
   "execution_count": 0,
   "metadata": {
    "application/vnd.databricks.v1+cell": {
     "cellMetadata": {},
     "inputWidgets": {},
     "nuid": "a2136ef2-f3db-4073-a483-8daec55bd17a",
     "showTitle": false,
     "tableResultSettingsMap": {},
     "title": ""
    }
   },
   "outputs": [],
   "source": [
    "'''\n",
    "notebook : retail_data_ingestion\n",
    "author   : sharwari\n",
    "Description : \n",
    "                  1. using mount point or databricks connector connecting to the gen2lake \n",
    "                  2. create dataframe on raw data\n",
    "                  3. add etldate to dataframe and overwrite bronze table \n",
    "                  4. apply the transformation from bronze to silver. \n",
    "                         review --> append \n",
    "                         products --> merge \n",
    "                         categories --> overwrite\n",
    "                  5. move the files from raw to archive folder. \n",
    "\n",
    "'''"
   ]
  },
  {
   "cell_type": "code",
   "execution_count": 0,
   "metadata": {
    "application/vnd.databricks.v1+cell": {
     "cellMetadata": {
      "byteLimit": 2048000,
      "rowLimit": 10000
     },
     "inputWidgets": {},
     "nuid": "cb90f7a8-d956-4db2-9f46-75061fbe902d",
     "showTitle": false,
     "tableResultSettingsMap": {},
     "title": ""
    }
   },
   "outputs": [
    {
     "output_type": "execute_result",
     "data": {
      "text/plain": [
       "True"
      ]
     },
     "execution_count": 24,
     "metadata": {},
     "output_type": "execute_result"
    }
   ],
   "source": [
    "# COMMAND ----------\n",
    "\n",
    "stgactkey = dbutils.secrets.get(scope = 'ak_scope_11',key = 'storagegen2key')\n",
    "mnt_point = \"/mnt/data\"\n",
    "\n",
    "# COMMAND ----------\n",
    "\n",
    "\n",
    "if not any(mount.mountPoint == mnt_point for mount in dbutils.fs.mounts()):\n",
    "    dbutils.fs.mount(\n",
    "        source=\"wasbs://akcontainer1@akstorageadls1.blob.core.windows.net\",\n",
    "        mount_point=mnt_point,\n",
    "        extra_configs={\"fs.azure.account.key.akstorageadls1.blob.core.windows.net\": stgactkey}\n",
    "    )\n"
   ]
  },
  {
   "cell_type": "code",
   "execution_count": 0,
   "metadata": {
    "application/vnd.databricks.v1+cell": {
     "cellMetadata": {
      "byteLimit": 2048000,
      "rowLimit": 10000
     },
     "inputWidgets": {},
     "nuid": "7d8b2972-5719-46b3-8b30-6383f69801b9",
     "showTitle": false,
     "tableResultSettingsMap": {},
     "title": ""
    }
   },
   "outputs": [],
   "source": [
    "tbl_nm = dbutils.widgets.get('tablename')\n",
    "#tbl_nm = 'reviews'"
   ]
  },
  {
   "cell_type": "code",
   "execution_count": 0,
   "metadata": {
    "application/vnd.databricks.v1+cell": {
     "cellMetadata": {
      "byteLimit": 2048000,
      "rowLimit": 10000
     },
     "inputWidgets": {},
     "nuid": "b14dfc12-55a3-483a-ab0d-431d6b4749e6",
     "showTitle": false,
     "tableResultSettingsMap": {},
     "title": ""
    }
   },
   "outputs": [],
   "source": [
    "\n",
    "raw_path = '/mnt/data/raw/'\n",
    "bv_raw_path = raw_path+'BV/'\n",
    "tbl_raw_path = bv_raw_path+tbl_nm\n",
    "\n",
    "bronze_tbl = tbl_nm+'_stg'\n",
    "bronze_path = '/mnt/data/bronze'\n",
    "tbl_bronze_path = bronze_path+'/'+bronze_tbl\n",
    "bronze_tbl_path = 'abfss://akcontainer1@akstorageadls1.dfs.core.windows.net/bronze/'+bronze_tbl\n",
    "\n",
    "silver_tbl = tbl_nm\n",
    "silver_path = '/mnt/data/silver'\n",
    "tbl_silver_path = silver_path+'/'+silver_tbl\n",
    "silver_tbl_path = 'abfss://akcontainer1@akstorageadls1.dfs.core.windows.net/silver/'+silver_tbl\n",
    "\n",
    "\n",
    "\n",
    "archive_path = '/mnt/data/archive/'\n",
    "bv_archive_path = archive_path+'BV/'\n",
    "tbl_archive_path = bv_archive_path+tbl_nm\n",
    "\n",
    "\n",
    "\n",
    "catalog_nm = 'bvcatalog'\n",
    "b_schema = 'bronzeschema'\n",
    "s_schema = 'silverschema'\n"
   ]
  },
  {
   "cell_type": "code",
   "execution_count": 0,
   "metadata": {
    "application/vnd.databricks.v1+cell": {
     "cellMetadata": {
      "byteLimit": 2048000,
      "rowLimit": 10000
     },
     "inputWidgets": {},
     "nuid": "ea40af17-8947-4525-b32f-86b18b867e1e",
     "showTitle": false,
     "tableResultSettingsMap": {},
     "title": ""
    }
   },
   "outputs": [],
   "source": [
    "df = spark.read.format(\"json\").load(tbl_raw_path+'/*.json')"
   ]
  },
  {
   "cell_type": "code",
   "execution_count": 0,
   "metadata": {
    "application/vnd.databricks.v1+cell": {
     "cellMetadata": {
      "byteLimit": 2048000,
      "rowLimit": 10000
     },
     "inputWidgets": {},
     "nuid": "ad9efc98-149b-4142-b361-8d7a24413c26",
     "showTitle": false,
     "tableResultSettingsMap": {},
     "title": ""
    }
   },
   "outputs": [
    {
     "output_type": "stream",
     "name": "stdout",
     "output_type": "stream",
     "text": [
      "+-------+-------+------+---------+-------------------+----------+\n|cust_id|prod_id|rating|review_id|        review_text|reviewdate|\n+-------+-------+------+---------+-------------------+----------+\n|     C1|PROD001|     5|  REVW001|product is not good|2024-09-10|\n|     C2|PROD002|     4|  REVW002|       Nice product|2024-09-10|\n|     C3|PROD003|     3|  REVW003|  worthable product|2024-09-10|\n|     C4|PROD006|     2|  REVW004|   use less product|2024-09-10|\n|     C1|PROD006|     1|  REVW005|product is not good|2024-09-10|\n|     C2|PROD001|     5|  REVW006|       Nice product|2024-09-10|\n+-------+-------+------+---------+-------------------+----------+\n\n"
     ]
    }
   ],
   "source": [
    "df.show()"
   ]
  },
  {
   "cell_type": "code",
   "execution_count": 0,
   "metadata": {
    "application/vnd.databricks.v1+cell": {
     "cellMetadata": {
      "byteLimit": 2048000,
      "rowLimit": 10000
     },
     "inputWidgets": {},
     "nuid": "8e425efb-f175-4d5c-9b7b-6a7f9c534adc",
     "showTitle": false,
     "tableResultSettingsMap": {},
     "title": ""
    }
   },
   "outputs": [
    {
     "output_type": "stream",
     "name": "stdout",
     "output_type": "stream",
     "text": [
      "23092024\n"
     ]
    }
   ],
   "source": [
    "from datetime import datetime \n",
    "\n",
    "dt = datetime.now().strftime(\"%d%m%Y\")\n",
    "\n",
    "print(dt)"
   ]
  },
  {
   "cell_type": "code",
   "execution_count": 0,
   "metadata": {
    "application/vnd.databricks.v1+cell": {
     "cellMetadata": {
      "byteLimit": 2048000,
      "rowLimit": 10000
     },
     "inputWidgets": {},
     "nuid": "cd3b0b8f-5659-42f8-a0da-86821a157663",
     "showTitle": false,
     "tableResultSettingsMap": {},
     "title": ""
    }
   },
   "outputs": [],
   "source": [
    "from pyspark.sql.functions import lit"
   ]
  },
  {
   "cell_type": "code",
   "execution_count": 0,
   "metadata": {
    "application/vnd.databricks.v1+cell": {
     "cellMetadata": {
      "byteLimit": 2048000,
      "rowLimit": 10000
     },
     "inputWidgets": {},
     "nuid": "0ccbcb36-51d1-4aff-bc25-ea01a009988c",
     "showTitle": false,
     "tableResultSettingsMap": {},
     "title": ""
    }
   },
   "outputs": [
    {
     "output_type": "stream",
     "name": "stdout",
     "output_type": "stream",
     "text": [
      "+-------+-------+------+---------+-------------------+----------+--------+\n|cust_id|prod_id|rating|review_id|        review_text|reviewdate| etldata|\n+-------+-------+------+---------+-------------------+----------+--------+\n|     C1|PROD001|     5|  REVW001|product is not good|2024-09-10|23092024|\n|     C2|PROD002|     4|  REVW002|       Nice product|2024-09-10|23092024|\n|     C3|PROD003|     3|  REVW003|  worthable product|2024-09-10|23092024|\n|     C4|PROD006|     2|  REVW004|   use less product|2024-09-10|23092024|\n|     C1|PROD006|     1|  REVW005|product is not good|2024-09-10|23092024|\n|     C2|PROD001|     5|  REVW006|       Nice product|2024-09-10|23092024|\n+-------+-------+------+---------+-------------------+----------+--------+\n\n"
     ]
    }
   ],
   "source": [
    "df = df.withColumn(\"etldata\",lit(dt))\n",
    "\n",
    "df.show()"
   ]
  },
  {
   "cell_type": "markdown",
   "metadata": {
    "application/vnd.databricks.v1+cell": {
     "cellMetadata": {},
     "inputWidgets": {},
     "nuid": "f61ad105-5280-4aa4-bf9c-6dd9288abd41",
     "showTitle": false,
     "tableResultSettingsMap": {},
     "title": ""
    }
   },
   "source": [
    "<h3> raw to Bronze</h3>"
   ]
  },
  {
   "cell_type": "code",
   "execution_count": 0,
   "metadata": {
    "application/vnd.databricks.v1+cell": {
     "cellMetadata": {
      "byteLimit": 2048000,
      "rowLimit": 10000
     },
     "inputWidgets": {},
     "nuid": "3fb59f51-294f-4fcc-a55b-f65f1da9d356",
     "showTitle": false,
     "tableResultSettingsMap": {},
     "title": ""
    }
   },
   "outputs": [],
   "source": [
    "df.write.format(\"Delta\").mode(\"overwrite\").option(\"mergeschema\",True).save(tbl_bronze_path)"
   ]
  },
  {
   "cell_type": "code",
   "execution_count": 0,
   "metadata": {
    "application/vnd.databricks.v1+cell": {
     "cellMetadata": {},
     "inputWidgets": {},
     "nuid": "5b2d2bdd-d311-4def-9836-21b18398becd",
     "showTitle": false,
     "tableResultSettingsMap": {},
     "title": ""
    }
   },
   "outputs": [],
   "source": [
    "#%sql \n",
    "#sqlstatement1\n",
    "\n",
    "#spark.sql(sqlstatement1)"
   ]
  },
  {
   "cell_type": "code",
   "execution_count": 0,
   "metadata": {
    "application/vnd.databricks.v1+cell": {
     "cellMetadata": {
      "byteLimit": 2048000,
      "rowLimit": 10000
     },
     "inputWidgets": {},
     "nuid": "a20d08d4-d839-42cc-94f9-e5fae5a9450c",
     "showTitle": false,
     "tableResultSettingsMap": {},
     "title": ""
    }
   },
   "outputs": [
    {
     "output_type": "execute_result",
     "data": {
      "text/plain": [
       "DataFrame[]"
      ]
     },
     "execution_count": 44,
     "metadata": {},
     "output_type": "execute_result"
    }
   ],
   "source": [
    "qry = f'''\n",
    "    create table if not exists {catalog_nm}.{b_schema}.{bronze_tbl}\n",
    "    using delta\n",
    "    location '{bronze_tbl_path}'\n",
    "      '''\n",
    "spark.sql(qry)"
   ]
  },
  {
   "cell_type": "code",
   "execution_count": 0,
   "metadata": {
    "application/vnd.databricks.v1+cell": {
     "cellMetadata": {
      "byteLimit": 2048000,
      "implicitDf": true,
      "rowLimit": 10000
     },
     "inputWidgets": {},
     "nuid": "8dd29a9f-dbd0-4de1-9aee-8c721a7f5245",
     "showTitle": false,
     "tableResultSettingsMap": {},
     "title": ""
    }
   },
   "outputs": [
    {
     "output_type": "display_data",
     "data": {
      "text/html": [
       "<style scoped>\n",
       "  .table-result-container {\n",
       "    max-height: 300px;\n",
       "    overflow: auto;\n",
       "  }\n",
       "  table, th, td {\n",
       "    border: 1px solid black;\n",
       "    border-collapse: collapse;\n",
       "  }\n",
       "  th, td {\n",
       "    padding: 5px;\n",
       "  }\n",
       "  th {\n",
       "    text-align: left;\n",
       "  }\n",
       "</style><div class='table-result-container'><table class='table-result'><thead style='background-color: white'><tr><th>cust_id</th><th>prod_id</th><th>rating</th><th>review_id</th><th>review_text</th><th>reviewdate</th><th>etldata</th></tr></thead><tbody><tr><td>C1</td><td>PROD001</td><td>5</td><td>REVW001</td><td>product is not good</td><td>2024-09-10</td><td>23092024</td></tr><tr><td>C2</td><td>PROD002</td><td>4</td><td>REVW002</td><td>Nice product</td><td>2024-09-10</td><td>23092024</td></tr><tr><td>C3</td><td>PROD003</td><td>3</td><td>REVW003</td><td>worthable product</td><td>2024-09-10</td><td>23092024</td></tr><tr><td>C4</td><td>PROD006</td><td>2</td><td>REVW004</td><td>use less product</td><td>2024-09-10</td><td>23092024</td></tr><tr><td>C1</td><td>PROD006</td><td>1</td><td>REVW005</td><td>product is not good</td><td>2024-09-10</td><td>23092024</td></tr><tr><td>C2</td><td>PROD001</td><td>5</td><td>REVW006</td><td>Nice product</td><td>2024-09-10</td><td>23092024</td></tr></tbody></table></div>"
      ]
     },
     "metadata": {
      "application/vnd.databricks.v1+output": {
       "addedWidgets": {},
       "aggData": [],
       "aggError": "",
       "aggOverflow": false,
       "aggSchema": [],
       "aggSeriesLimitReached": false,
       "aggType": "",
       "arguments": {},
       "columnCustomDisplayInfos": {},
       "data": [
        [
         "C1",
         "PROD001",
         5,
         "REVW001",
         "product is not good",
         "2024-09-10",
         "23092024"
        ],
        [
         "C2",
         "PROD002",
         4,
         "REVW002",
         "Nice product",
         "2024-09-10",
         "23092024"
        ],
        [
         "C3",
         "PROD003",
         3,
         "REVW003",
         "worthable product",
         "2024-09-10",
         "23092024"
        ],
        [
         "C4",
         "PROD006",
         2,
         "REVW004",
         "use less product",
         "2024-09-10",
         "23092024"
        ],
        [
         "C1",
         "PROD006",
         1,
         "REVW005",
         "product is not good",
         "2024-09-10",
         "23092024"
        ],
        [
         "C2",
         "PROD001",
         5,
         "REVW006",
         "Nice product",
         "2024-09-10",
         "23092024"
        ]
       ],
       "datasetInfos": [],
       "dbfsResultPath": null,
       "isJsonSchema": true,
       "metadata": {
        "createTempViewForImplicitDf": true,
        "dataframeName": "_sqldf",
        "executionCount": 45
       },
       "overflow": false,
       "plotOptions": {
        "customPlotOptions": {},
        "displayType": "table",
        "pivotAggregation": null,
        "pivotColumns": null,
        "xColumns": null,
        "yColumns": null
       },
       "removedWidgets": [],
       "schema": [
        {
         "metadata": "{}",
         "name": "cust_id",
         "type": "\"string\""
        },
        {
         "metadata": "{}",
         "name": "prod_id",
         "type": "\"string\""
        },
        {
         "metadata": "{}",
         "name": "rating",
         "type": "\"long\""
        },
        {
         "metadata": "{}",
         "name": "review_id",
         "type": "\"string\""
        },
        {
         "metadata": "{}",
         "name": "review_text",
         "type": "\"string\""
        },
        {
         "metadata": "{}",
         "name": "reviewdate",
         "type": "\"string\""
        },
        {
         "metadata": "{}",
         "name": "etldata",
         "type": "\"string\""
        }
       ],
       "type": "table"
      }
     },
     "output_type": "display_data"
    }
   ],
   "source": [
    "%sql \n",
    "\n",
    "select * from bvcatalog.bronzeschema.reviews_stg"
   ]
  },
  {
   "cell_type": "markdown",
   "metadata": {
    "application/vnd.databricks.v1+cell": {
     "cellMetadata": {},
     "inputWidgets": {},
     "nuid": "03e79baf-d001-4b76-a7d7-523ff31a37b9",
     "showTitle": false,
     "tableResultSettingsMap": {},
     "title": ""
    }
   },
   "source": [
    "<h3>bronze to silver</h3>"
   ]
  },
  {
   "cell_type": "code",
   "execution_count": 0,
   "metadata": {
    "application/vnd.databricks.v1+cell": {
     "cellMetadata": {
      "byteLimit": 2048000,
      "rowLimit": 10000
     },
     "inputWidgets": {},
     "nuid": "ba2ded67-fbc3-4cdc-b64c-cdda07b04b32",
     "showTitle": false,
     "tableResultSettingsMap": {},
     "title": ""
    }
   },
   "outputs": [
    {
     "output_type": "execute_result",
     "data": {
      "text/plain": [
       "DataFrame[]"
      ]
     },
     "execution_count": 48,
     "metadata": {},
     "output_type": "execute_result"
    }
   ],
   "source": [
    "qry = f'''\n",
    "    create table if not exists {catalog_nm}.{s_schema}.{silver_tbl}\n",
    "    using delta\n",
    "    location '{silver_tbl_path}'\n",
    "      '''\n",
    "spark.sql(qry)"
   ]
  },
  {
   "cell_type": "code",
   "execution_count": 0,
   "metadata": {
    "application/vnd.databricks.v1+cell": {
     "cellMetadata": {},
     "inputWidgets": {},
     "nuid": "4b12a54e-1cbf-42b8-a265-9139eaae16a6",
     "showTitle": false,
     "tableResultSettingsMap": {},
     "title": ""
    }
   },
   "outputs": [],
   "source": []
  },
  {
   "cell_type": "code",
   "execution_count": 0,
   "metadata": {
    "application/vnd.databricks.v1+cell": {
     "cellMetadata": {
      "byteLimit": 2048000,
      "rowLimit": 10000
     },
     "inputWidgets": {},
     "nuid": "09ace4c8-e44c-4e7a-9d68-3478db66da21",
     "showTitle": false,
     "tableResultSettingsMap": {},
     "title": ""
    }
   },
   "outputs": [],
   "source": [
    "if tbl_nm=='reviews':\n",
    "    df.write.format(\"delta\").mode(\"append\").option(\"mergeschema\",True).save(tbl_silver_path)\n",
    "elif tbl_nm=='categories':\n",
    "    df.write.format(\"delta\").mode(\"overwrite\").option(\"mergeschema\",True).save(tbl_silver_path)\n",
    "elif tbl_nm == 'products':\n",
    "    df1 = spark.createDataFrame([],schema=df.schema)\n",
    "    df1.write.format(\"Delta\").mode(\"overwrite\").option(\"mergeschema\",True).save(tbl_silver_path)\n",
    "    qry = f'''\n",
    "            merge into {catalog_nm}.{s_schema}.{silver_tbl} p \n",
    "            using {catalog_nm}.{b_schema}.{bronze_tbl} ps\n",
    "            on ps.productid = p.productid\n",
    "            when matched then update set * \n",
    "            when not matched then insert *\n",
    "            '''\n",
    "    spark.sql(qry)\n"
   ]
  },
  {
   "cell_type": "code",
   "execution_count": 0,
   "metadata": {
    "application/vnd.databricks.v1+cell": {
     "cellMetadata": {
      "byteLimit": 2048000,
      "implicitDf": true,
      "rowLimit": 10000
     },
     "inputWidgets": {},
     "nuid": "e4bd1afb-82d0-4454-b21f-952918b9024f",
     "showTitle": false,
     "tableResultSettingsMap": {},
     "title": ""
    }
   },
   "outputs": [
    {
     "output_type": "display_data",
     "data": {
      "text/html": [
       "<style scoped>\n",
       "  .table-result-container {\n",
       "    max-height: 300px;\n",
       "    overflow: auto;\n",
       "  }\n",
       "  table, th, td {\n",
       "    border: 1px solid black;\n",
       "    border-collapse: collapse;\n",
       "  }\n",
       "  th, td {\n",
       "    padding: 5px;\n",
       "  }\n",
       "  th {\n",
       "    text-align: left;\n",
       "  }\n",
       "</style><div class='table-result-container'><table class='table-result'><thead style='background-color: white'><tr><th>cust_id</th><th>prod_id</th><th>rating</th><th>review_id</th><th>review_text</th><th>reviewdate</th><th>etldata</th></tr></thead><tbody><tr><td>C1</td><td>PROD001</td><td>5</td><td>REVW001</td><td>product is not good</td><td>2024-09-10</td><td>23092024</td></tr><tr><td>C2</td><td>PROD002</td><td>4</td><td>REVW002</td><td>Nice product</td><td>2024-09-10</td><td>23092024</td></tr><tr><td>C3</td><td>PROD003</td><td>3</td><td>REVW003</td><td>worthable product</td><td>2024-09-10</td><td>23092024</td></tr><tr><td>C4</td><td>PROD006</td><td>2</td><td>REVW004</td><td>use less product</td><td>2024-09-10</td><td>23092024</td></tr><tr><td>C1</td><td>PROD006</td><td>1</td><td>REVW005</td><td>product is not good</td><td>2024-09-10</td><td>23092024</td></tr><tr><td>C2</td><td>PROD001</td><td>5</td><td>REVW006</td><td>Nice product</td><td>2024-09-10</td><td>23092024</td></tr></tbody></table></div>"
      ]
     },
     "metadata": {
      "application/vnd.databricks.v1+output": {
       "addedWidgets": {},
       "aggData": [],
       "aggError": "",
       "aggOverflow": false,
       "aggSchema": [],
       "aggSeriesLimitReached": false,
       "aggType": "",
       "arguments": {},
       "columnCustomDisplayInfos": {},
       "data": [
        [
         "C1",
         "PROD001",
         5,
         "REVW001",
         "product is not good",
         "2024-09-10",
         "23092024"
        ],
        [
         "C2",
         "PROD002",
         4,
         "REVW002",
         "Nice product",
         "2024-09-10",
         "23092024"
        ],
        [
         "C3",
         "PROD003",
         3,
         "REVW003",
         "worthable product",
         "2024-09-10",
         "23092024"
        ],
        [
         "C4",
         "PROD006",
         2,
         "REVW004",
         "use less product",
         "2024-09-10",
         "23092024"
        ],
        [
         "C1",
         "PROD006",
         1,
         "REVW005",
         "product is not good",
         "2024-09-10",
         "23092024"
        ],
        [
         "C2",
         "PROD001",
         5,
         "REVW006",
         "Nice product",
         "2024-09-10",
         "23092024"
        ]
       ],
       "datasetInfos": [],
       "dbfsResultPath": null,
       "isJsonSchema": true,
       "metadata": {
        "createTempViewForImplicitDf": true,
        "dataframeName": "_sqldf",
        "executionCount": 57
       },
       "overflow": false,
       "plotOptions": {
        "customPlotOptions": {},
        "displayType": "table",
        "pivotAggregation": null,
        "pivotColumns": null,
        "xColumns": null,
        "yColumns": null
       },
       "removedWidgets": [],
       "schema": [
        {
         "metadata": "{}",
         "name": "cust_id",
         "type": "\"string\""
        },
        {
         "metadata": "{}",
         "name": "prod_id",
         "type": "\"string\""
        },
        {
         "metadata": "{}",
         "name": "rating",
         "type": "\"long\""
        },
        {
         "metadata": "{}",
         "name": "review_id",
         "type": "\"string\""
        },
        {
         "metadata": "{}",
         "name": "review_text",
         "type": "\"string\""
        },
        {
         "metadata": "{}",
         "name": "reviewdate",
         "type": "\"string\""
        },
        {
         "metadata": "{}",
         "name": "etldata",
         "type": "\"string\""
        }
       ],
       "type": "table"
      }
     },
     "output_type": "display_data"
    }
   ],
   "source": [
    "%sql \n",
    "select * from bvcatalog.silverschema.products;"
   ]
  },
  {
   "cell_type": "code",
   "execution_count": 0,
   "metadata": {
    "application/vnd.databricks.v1+cell": {
     "cellMetadata": {
      "byteLimit": 2048000,
      "rowLimit": 10000
     },
     "inputWidgets": {},
     "nuid": "1cf4d743-4679-49b5-9d7b-d8373e469e3d",
     "showTitle": false,
     "tableResultSettingsMap": {},
     "title": ""
    }
   },
   "outputs": [],
   "source": [
    "files_lst = dbutils.fs.ls(tbl_raw_path)\n",
    "dbutils.fs.mkdirs(tbl_archive_path)\n",
    "\n",
    "for file in files_lst: \n",
    "    dbutils.fs.mv(file.path,tbl_archive_path)"
   ]
  },
  {
   "cell_type": "code",
   "execution_count": 0,
   "metadata": {
    "application/vnd.databricks.v1+cell": {
     "cellMetadata": {
      "byteLimit": 2048000,
      "rowLimit": 10000
     },
     "inputWidgets": {},
     "nuid": "c1de793b-e514-4952-9508-ac68fc5cdc1b",
     "showTitle": false,
     "tableResultSettingsMap": {},
     "title": ""
    }
   },
   "outputs": [
    {
     "output_type": "execute_result",
     "data": {
      "text/plain": [
       "[FileInfo(path='dbfs:/mnt/data/archive/BV/reviews/reviews_10092024.json', name='reviews_10092024.json', size=782, modificationTime=1727060833000)]"
      ]
     },
     "execution_count": 60,
     "metadata": {},
     "output_type": "execute_result"
    }
   ],
   "source": [
    "dbutils.fs.ls('/mnt/data/archive/BV/reviews/')"
   ]
  },
  {
   "cell_type": "code",
   "execution_count": 0,
   "metadata": {
    "application/vnd.databricks.v1+cell": {
     "cellMetadata": {
      "byteLimit": 2048000,
      "rowLimit": 10000
     },
     "inputWidgets": {},
     "nuid": "682a336f-4de8-49a9-a3bd-11ae76c11219",
     "showTitle": false,
     "tableResultSettingsMap": {},
     "title": ""
    }
   },
   "outputs": [
    {
     "output_type": "stream",
     "name": "stdout",
     "output_type": "stream",
     "text": [
      "/mnt/data has been unmounted.\n"
     ]
    },
    {
     "output_type": "execute_result",
     "data": {
      "text/plain": [
       "True"
      ]
     },
     "execution_count": 61,
     "metadata": {},
     "output_type": "execute_result"
    }
   ],
   "source": [
    "dbutils.fs.unmount('/mnt/data')"
   ]
  }
 ],
 "metadata": {
  "application/vnd.databricks.v1+notebook": {
   "dashboards": [],
   "environmentMetadata": {
    "base_environment": "",
    "client": "1"
   },
   "language": "python",
   "notebookMetadata": {
    "mostRecentlyExecutedCommandWithImplicitDF": {
     "commandId": 2661661244151621,
     "dataframes": [
      "_sqldf"
     ]
    },
    "pythonIndentUnit": 4
   },
   "notebookName": "retail_data_ingestion",
   "widgets": {}
  }
 },
 "nbformat": 4,
 "nbformat_minor": 0
}
